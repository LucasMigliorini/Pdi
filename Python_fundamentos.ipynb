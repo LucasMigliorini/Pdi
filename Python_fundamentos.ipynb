{
  "nbformat": 4,
  "nbformat_minor": 0,
  "metadata": {
    "colab": {
      "provenance": []
    },
    "kernelspec": {
      "name": "python3",
      "display_name": "Python 3"
    },
    "language_info": {
      "name": "python"
    }
  },
  "cells": [
    {
      "cell_type": "code",
      "source": [
        "print('Hello, World')"
      ],
      "metadata": {
        "colab": {
          "base_uri": "https://localhost:8080/"
        },
        "id": "cdzHLvKBtnqk",
        "outputId": "cacea21f-2af6-43de-c5a2-c9d6244f496d"
      },
      "execution_count": null,
      "outputs": [
        {
          "output_type": "stream",
          "name": "stdout",
          "text": [
            "Hello, World\n"
          ]
        }
      ]
    },
    {
      "cell_type": "code",
      "source": [
        "idade = 22\n",
        "\n",
        "print(\"[%d]\" % idade)"
      ],
      "metadata": {
        "colab": {
          "base_uri": "https://localhost:8080/"
        },
        "id": "ZvGnqPwkwHX4",
        "outputId": "51170e50-a729-446f-b417-97e26ba107ae"
      },
      "execution_count": null,
      "outputs": [
        {
          "output_type": "stream",
          "name": "stdout",
          "text": [
            "[22]\n"
          ]
        }
      ]
    },
    {
      "cell_type": "code",
      "source": [
        "idade = 21\n",
        "\n",
        "print(\"[%d]\" % idade)"
      ],
      "metadata": {
        "colab": {
          "base_uri": "https://localhost:8080/"
        },
        "id": "VCEQ0A7ZwYvi",
        "outputId": "4d0f1829-5c5f-4c8d-d9f7-49d58e74f75c"
      },
      "execution_count": null,
      "outputs": [
        {
          "output_type": "stream",
          "name": "stdout",
          "text": [
            "[21]\n"
          ]
        }
      ]
    },
    {
      "cell_type": "code",
      "source": [
        "horas = 16\n",
        "x = \" Vou para casa as %d\" % horas\n",
        "\n",
        "\n",
        "print(x)"
      ],
      "metadata": {
        "colab": {
          "base_uri": "https://localhost:8080/"
        },
        "id": "SY7gjq8xyTK8",
        "outputId": "d77ab99b-e2b5-4790-94d4-79812694a972"
      },
      "execution_count": null,
      "outputs": [
        {
          "output_type": "stream",
          "name": "stdout",
          "text": [
            " Vou para casa as 16\n"
          ]
        }
      ]
    },
    {
      "cell_type": "code",
      "source": [
        " x = input(\"Digite um número\")\n",
        " print(x)"
      ],
      "metadata": {
        "id": "LXINv1YvzDmk",
        "colab": {
          "base_uri": "https://localhost:8080/"
        },
        "outputId": "bbb9271e-3f9f-4036-e260-27c6670dd9fa"
      },
      "execution_count": null,
      "outputs": [
        {
          "output_type": "stream",
          "name": "stdout",
          "text": [
            "Digite um número10\n",
            "10\n"
          ]
        }
      ]
    },
    {
      "cell_type": "code",
      "source": [
        "nome = input(\"Digite seu nome:\")\n",
        "\n",
        "print(\"Você digitou %s\" % nome)\n",
        "print(\"Olá, %s\" % nome)"
      ],
      "metadata": {
        "colab": {
          "base_uri": "https://localhost:8080/"
        },
        "id": "JUt-6qFsMLyv",
        "outputId": "7aff25c2-1007-4186-fbe5-320b6557b3e1"
      },
      "execution_count": null,
      "outputs": [
        {
          "output_type": "stream",
          "name": "stdout",
          "text": [
            "Digite seu nome: Lucas\n",
            "Você digitou  Lucas\n",
            "Olá,  Lucas\n"
          ]
        }
      ]
    },
    {
      "cell_type": "code",
      "source": [
        "nome = input(\"Digite seu nome:\")\n",
        "\n",
        "print(\"Olá, %s\" % nome )\n",
        "print(\"Feio pa carai %s\" % nome  )"
      ],
      "metadata": {
        "colab": {
          "base_uri": "https://localhost:8080/"
        },
        "id": "aIc5sTyHM5V-",
        "outputId": "d2eb3da7-f009-4b6a-9b12-9ca2aeeadca6"
      },
      "execution_count": null,
      "outputs": [
        {
          "output_type": "stream",
          "name": "stdout",
          "text": [
            "Digite seu nome: Rafael\n",
            "Olá,  Rafael\n",
            "Feio pa carai  Rafael\n"
          ]
        }
      ]
    },
    {
      "cell_type": "code",
      "source": [
        "anos = int(input(\"Anos de Serviço :\"))\n",
        "valor_por_ano = float(input(\"Valor por ano :\"))\n",
        "bônus = anos * valor_por_ano\n",
        "\n",
        "print(\"Bonus de R$ %5.2f\" % bônus)"
      ],
      "metadata": {
        "colab": {
          "base_uri": "https://localhost:8080/"
        },
        "id": "-U_0o47fNi7l",
        "outputId": "3383bac0-b815-4329-9d38-eeff77d4b517"
      },
      "execution_count": null,
      "outputs": [
        {
          "output_type": "stream",
          "name": "stdout",
          "text": [
            "Anos de Serviço : 10\n",
            "Valor por ano : 100\n",
            "Bonus de R$ 1000.00\n"
          ]
        }
      ]
    },
    {
      "cell_type": "code",
      "source": [
        "# Faça um programa que peça dois números inteiros. Imprima a soma desses dois números na tela.\n",
        "\n",
        "\n",
        "x = int(input(\"Número inteiro\"))\n",
        "y = int(input(\"Número inteiro\"))\n",
        "z = ( x + y )\n",
        "\n",
        "print(\"Valor da soma de dois inteiros %5.f\" %z )"
      ],
      "metadata": {
        "colab": {
          "base_uri": "https://localhost:8080/"
        },
        "id": "0bOp8XqGdBgA",
        "outputId": "00b1cd25-cdf7-42c5-820d-403eae625776"
      },
      "execution_count": null,
      "outputs": [
        {
          "output_type": "stream",
          "name": "stdout",
          "text": [
            "Número inteiro10\n",
            "Número inteiro5\n",
            "Valor da soma de dois inteiros    15\n"
          ]
        }
      ]
    },
    {
      "cell_type": "code",
      "source": [
        "#Faça um programa que calcule o aumento de um salário. Ele deve solicitar o valor do salário e a porcentagem do aumento. Exiba o valor do aumento e do novo salário.\n",
        "\n",
        "v = int(input(\"Valor do salario :\"))\n",
        "a = int(input(\"Porcentagem do aumento :\"))\n",
        "\n",
        "y = float( v * a / 100 )\n",
        "x = float( v + y ) \n",
        "\n",
        "print(\"Aumento de Salário : %5.2f \" % y )\n",
        "print(\"Novo Salário : %10.2f\" % x  )"
      ],
      "metadata": {
        "colab": {
          "base_uri": "https://localhost:8080/"
        },
        "id": "23PwAr9PdH8I",
        "outputId": "514c748d-2478-4af8-ab0f-899f06f5f98a"
      },
      "execution_count": null,
      "outputs": [
        {
          "output_type": "stream",
          "name": "stdout",
          "text": [
            "Valor do salario : 1000\n",
            "Porcentagem do aumento : 5\n",
            "Aumento de Salário : 50.00 \n",
            "Novo Salário :    1050.00\n"
          ]
        }
      ]
    },
    {
      "cell_type": "code",
      "source": [
        "# Faça um programa que solicite o preço de uma mercadoria e o percentual de desconto. Exiba o valor do desconto e o preço a pagar.\n",
        "\n",
        "m = float(input(\"Preço da mercadoria :\"))\n",
        "d = float(input(\"Percentual de desconto\"))\n",
        "\n",
        "y = float( m * d /100 )\n",
        "x = float( m - y )\n",
        "\n",
        "print(\"Valor do desconto R$ %5.2f :\" % y)\n",
        "print(\"Preço a pagar R$ %5.2f :\" % x )"
      ],
      "metadata": {
        "id": "jd7tViQazEFe",
        "colab": {
          "base_uri": "https://localhost:8080/"
        },
        "outputId": "7c2655ac-a5e7-4335-a149-71c41d6c3bdc"
      },
      "execution_count": null,
      "outputs": [
        {
          "output_type": "stream",
          "name": "stdout",
          "text": [
            "Preço da mercadoria : 100\n",
            "Percentual de desconto 2\n",
            "Valor do desconto R$ 2.00 :\n",
            "Preço a pagar R$ 98.00 :\n"
          ]
        }
      ]
    },
    {
      "cell_type": "code",
      "source": [
        "# Escreva um programa que calcule o tempo de uma viagem de carro. Pergunte a distância a percorrer e a velocidade média esperada para a viagem.\n",
        "\n",
        "d = float(input(\"Distância a percorrer :\"))\n",
        "v = float(input(\"Velocidade média :\"))\n",
        "\n",
        "x = float( d / v )\n",
        "\n",
        "print(\"Tempo de viagem do carro :%10.2f \" % x )"
      ],
      "metadata": {
        "colab": {
          "base_uri": "https://localhost:8080/"
        },
        "id": "DeG60Ynh-cq0",
        "outputId": "7de1ba22-6171-409f-edbc-76ea072beb4e"
      },
      "execution_count": null,
      "outputs": [
        {
          "output_type": "stream",
          "name": "stdout",
          "text": [
            "Distância a percorrer : 100\n",
            "Velocidade média : 80\n",
            "Tempo de viagem do carro :      1.25 \n"
          ]
        }
      ]
    },
    {
      "cell_type": "code",
      "source": [
        " # Escreva um programa para calcular a redução do tempo de vida de um fumante. Pergunte a quantidade de cigarros fumados por dia e quantos anos ele já fumou. Considere que um fumante perde 10 minutos de vida a cada cigarro,\n",
        "#fumante perde 10 minutos de vida a cada cigarro,calcule quantos dias de vida um fumante perderá. Exiba o total em dias.\n",
        "\n",
        "c = int(input(\"Cigarros fumados por dia :\"))\n",
        "a = int(input(\"Anos fumando :\"))\n",
        "\n",
        "y = int( 10 * c )\n",
        "z = int( y * 365 )\n",
        "x = int( a * z )\n",
        "q = int( x / 1440 )\n",
        "\n",
        "print(\" Dias de vida perdido %4d\" % q )"
      ],
      "metadata": {
        "colab": {
          "base_uri": "https://localhost:8080/"
        },
        "id": "rd4nTOLBEp4a",
        "outputId": "e63fcbb0-1aa5-40b7-946e-45d0d0db624a"
      },
      "execution_count": null,
      "outputs": [
        {
          "output_type": "stream",
          "name": "stdout",
          "text": [
            "Cigarros fumados por dia : 10\n",
            "Anos fumando : 2\n",
            " Dias de vida perdido   50\n"
          ]
        }
      ]
    },
    {
      "cell_type": "code",
      "source": [
        "a = int(input(\"Primeiro número :\"))\n",
        "b = int(input(\" Segundo número :\"))\n",
        "\n",
        "if a > b:\n",
        " print(\"O primeiro número é o maior\")\n",
        "if b > a:\n",
        "  print(\"O segundo número é o maior\")\n",
        "if b == a:\n",
        "  print(\"Os dois números são iguais\")"
      ],
      "metadata": {
        "colab": {
          "base_uri": "https://localhost:8080/"
        },
        "id": "7U-09UBuMT4J",
        "outputId": "b3203d09-04f8-4019-a152-309173be2efd"
      },
      "execution_count": null,
      "outputs": [
        {
          "output_type": "stream",
          "name": "stdout",
          "text": [
            "Primeiro número :10\n",
            " Segundo número :5\n",
            "O primeiro número é o maior\n"
          ]
        }
      ]
    },
    {
      "cell_type": "code",
      "source": [
        "idade = int(input(\"Digite a idade do carro :\"))\n",
        "\n",
        "if idade <= 3:\n",
        "  print(\"Seu carro é novo\")\n",
        "if idade > 3:\n",
        "  print(\"Seu carro é velho\")"
      ],
      "metadata": {
        "colab": {
          "base_uri": "https://localhost:8080/"
        },
        "id": "-LNHxqvJWS9w",
        "outputId": "1f68c6d0-4108-4879-ca9c-9bfb65692590"
      },
      "execution_count": null,
      "outputs": [
        {
          "output_type": "stream",
          "name": "stdout",
          "text": [
            "Digite a idade do carro : 1\n",
            "Seu carro é novo\n"
          ]
        }
      ]
    },
    {
      "cell_type": "code",
      "source": [
        "# Escreva um programa que pergunte a velocidade do carro de um usuário. Caso ultrapasse 80 km/h, exiba uma mensagem dizendo que o usuário foi multado. Nesse caso, exiba o \n",
        "# valor da multa, cobrando R$ 5 por km acima de 80 km/h.\n",
        "\n",
        "v = int(input(\"Velocidade do carro de um usuário em km/hr :\"))\n",
        "\n",
        "z = ((v - 80) * 5)\n",
        "\n",
        "if v > 80:\n",
        "  print(\"Você foi multado\")\n",
        "  print(\"A multa é de R$ %3d\" % z)\n",
        "\n",
        "if v <= 80:\n",
        "  print(\"Você não tem multa\")\n"
      ],
      "metadata": {
        "colab": {
          "base_uri": "https://localhost:8080/"
        },
        "id": "PsV0WzPxnzMZ",
        "outputId": "7a937837-9ba6-4148-d651-5658e78ab3ae"
      },
      "execution_count": null,
      "outputs": [
        {
          "output_type": "stream",
          "name": "stdout",
          "text": [
            "Velocidade do carro de um usuário em km/hr :90\n",
            "Você foi multado\n",
            "A multa é de R$  50\n"
          ]
        }
      ]
    },
    {
      "cell_type": "code",
      "source": [
        "salario = float(input(\"Digite o salário para cáculo do imposto :\"))\n",
        "\n",
        "base = salario\n",
        "imposto = 0\n",
        "\n",
        "if base > 3000:\n",
        "  imposto = imposto + ((base - 3000) * 0.35)\n",
        "  base = 3000\n",
        "if base > 1000:\n",
        "  imposto = imposto + ((base - 1000) * 0.20)\n",
        "\n",
        "print(\"Salário : R$ %6.2f Imposto a pagar: R$ %6.2f\" % (salario, imposto))"
      ],
      "metadata": {
        "colab": {
          "base_uri": "https://localhost:8080/"
        },
        "id": "iUBHZzfVtDo5",
        "outputId": "f7278ee8-e076-4e9e-feac-36174c2f229f"
      },
      "execution_count": null,
      "outputs": [
        {
          "output_type": "stream",
          "name": "stdout",
          "text": [
            "Digite o salário para cáculo do imposto :1500\n",
            "Salário : R$ 1500.00 Imposto a pagar: R$ 100.00\n"
          ]
        }
      ]
    },
    {
      "cell_type": "code",
      "source": [
        "idade = int(input(\"Digite a idade do seu carro :\"))\n",
        "\n",
        "if idade <= 3:\n",
        "  print(\"Seu carro é novo!\")\n",
        "else:\n",
        "  print(\"Seu carro é velho!\")"
      ],
      "metadata": {
        "id": "R4U6L_v8ytK4",
        "colab": {
          "base_uri": "https://localhost:8080/"
        },
        "outputId": "1765842b-36cb-4c64-9542-405cd311bb90"
      },
      "execution_count": null,
      "outputs": [
        {
          "output_type": "stream",
          "name": "stdout",
          "text": [
            "Digite a idade do seu carro : 9\n",
            "Seu carro é velho!\n"
          ]
        }
      ]
    },
    {
      "cell_type": "code",
      "source": [
        "# Escreva um programa que pergunte a distância que um passageiro deseja percorrer em km. Calcule o preço da passagem, cobrando R$ 0,50 por km para viagens de até de 200 km, \n",
        "# e R$ 0,45 para viagens mais longas.\n",
        "\n",
        "distancia = int(input(\"Distância a percorrer em km :\"))\n",
        "\n",
        "y = distancia * 0.50\n",
        "m = distancia * 0.45\n",
        "x = float(0.50)\n",
        "z = float(0.45)\n",
        "\n",
        "if distancia <= 200:\n",
        "  print(\"%3.2f por km a passagem !\" % x)\n",
        "  print(\"Valor a pagar : %5.2f\" % y)\n",
        "\n",
        "else:\n",
        "  print(\"%3.2f por km a passagem !\" % z)\n",
        "  print(\"Valor a pagar : %5.2f\" % m)\n",
        "\n"
      ],
      "metadata": {
        "id": "DjL_wS9cNHrS",
        "colab": {
          "base_uri": "https://localhost:8080/"
        },
        "outputId": "2b9662d8-8c0f-46e8-8cca-b20916dc9360"
      },
      "execution_count": 12,
      "outputs": [
        {
          "output_type": "stream",
          "name": "stdout",
          "text": [
            "Distância a percorrer em km :300\n",
            "0.45 por km a passagem !\n",
            "Valor a pagar : 135.00\n"
          ]
        }
      ]
    },
    {
      "cell_type": "code",
      "source": [
        "#Escreva um programa para aprovar o empréstimo bancário para compra de uma casa. O programa deve perguntar o valor da casa a comprar, o salário e a quantidade de anos a pagar. O valor da prestação mensal não pode ser superior \n",
        "# a 30% do salário. Calcule o valor da prestação como sendo o valor da casa a comprar dividido pelo número de meses a pagar.\n",
        "\n",
        "valor = int(input(\"Valor da casa a comprar : \"))\n",
        "salario = int(input(\"Salário : \"))\n",
        "anos = int(input(\"Quantidade de anos a pagar : \"))\n",
        " \n",
        "y = anos * 12\n",
        "prestacao = float(valor / y)\n",
        "\n",
        "if prestacao > salario * 0.30 :\n",
        "  print(\"Não aprovado !\")\n",
        "else:\n",
        "  print(\"Aprovado\")\n",
        "\n"
      ],
      "metadata": {
        "colab": {
          "base_uri": "https://localhost:8080/"
        },
        "id": "eFxV4axxrF0M",
        "outputId": "416f5dba-2f89-4598-ae94-9d9a16466b9a"
      },
      "execution_count": 22,
      "outputs": [
        {
          "output_type": "stream",
          "name": "stdout",
          "text": [
            "Valor da casa a comprar : 10000\n",
            "Salário : 1000\n",
            "Quantidade de anos a pagar : 1\n",
            "Não aprovado !\n"
          ]
        }
      ]
    }
  ]
}